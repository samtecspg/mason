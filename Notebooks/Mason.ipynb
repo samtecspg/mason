{
 "cells": [
  {
   "cell_type": "code",
   "execution_count": 1,
   "metadata": {},
   "outputs": [
    {
     "data": {
      "text/html": [
       "<style>.container { width:100% !important; }</style>"
      ],
      "text/plain": [
       "<IPython.core.display.HTML object>"
      ]
     },
     "metadata": {},
     "output_type": "display_data"
    }
   ],
   "source": [
    "from mason.util.notebook_environment import NotebookEnvironment"
   ]
  },
  {
   "cell_type": "code",
   "execution_count": 2,
   "metadata": {},
   "outputs": [
    {
     "name": "stdout",
     "output_type": "stream",
     "text": [
      "Current Mason config not set.  Run \"mason config -s\" to set current config.\n",
      "+-----------------+\n",
      "| Configurations  |\n",
      "+-----------------+\n",
      "Config ID    Engine     Client    Configuration\n",
      "-----------  ---------  --------  -----------------------------------------------------------------------------------------------------------\n",
      ".  1         metastore  glue      {'aws_region': 'us-east-1', 'aws_role_arn': 'REDACTED', 'access_key': 'REDACTED', 'secret_key': 'REDACTED'}\n",
      "             scheduler  glue      {'aws_region': 'us-east-1', 'aws_role_arn': 'REDACTED', 'access_key': 'REDACTED', 'secret_key': 'REDACTED'}\n",
      "             storage    s3        {'aws_region': 'us-east-1', 'access_key': 'REDACTED', 'secret_key': 'REDACTED'}\n",
      "             execution  athena    {'aws_region': 'us-east-1', 'access_key': 'REDACTED', 'secret_key': 'REDACTED'}\n",
      ".  2         metastore  s3        {'aws_region': 'us-east-1', 'access_key': 'REDACTED', 'secret_key': 'REDACTED'}\n",
      "             execution  spark     {'runner': {'spark_version': '2.4.5', 'type': 'kubernetes-operator'}}\n",
      ".  3         metastore  athena    {'aws_region': 'us-east-1', 'access_key': 'REDACTED', 'secret_key': 'REDACTED'}\n",
      "             storage    s3        {'aws_region': 'us-east-1', 'access_key': 'REDACTED', 'secret_key': 'REDACTED'}\n",
      "\n",
      "* = Current Configuration\n",
      "+------------------------------------------------------------------------------+\n",
      "| Available Operator Methods: /Users/kyle/dev/mason/mason/examples/operators/  |\n",
      "+------------------------------------------------------------------------------+\n",
      "\n",
      "namespace    command    description                         parameters\n",
      "-----------  ---------  ----------------------------------  ---------------------------------------------------------------------------------------------------------------\n",
      "schedule     delete     Delete schedule                     {'required': ['schedule_name'], 'optional': []}\n",
      "table        delete     Delete metastore tables             {'required': ['table_name', 'database_name'], 'optional': []}\n",
      "table        merge      Merge metastore tables              {'required': ['output_path', 'input_path'], 'optional': ['extract_paths', 'repartition_keys', 'parse_headers']}\n",
      "table        refresh    Refresh metastore tables            {'required': ['database_name', 'table_name'], 'optional': []}\n",
      "table        get        Get metastore table contents        {'required': ['database_name', 'table_name'], 'optional': []}\n",
      "table        list       Get metastore tables                {'required': ['database_name'], 'optional': []}\n",
      "table        infer      Infers schema for metastore tables  {'required': ['database_name', 'storage_path'], 'optional': ['table_name']}\n",
      "table        query      Query metastore tables              {'required': ['query_string', 'database_name'], 'optional': []}\n",
      "job          get        Get Execution Job Status            {'required': ['job_id'], 'optional': []}\n"
     ]
    }
   ],
   "source": [
    "env = NotebookEnvironment()"
   ]
  },
  {
   "cell_type": "code",
   "execution_count": 12,
   "metadata": {},
   "outputs": [
    {
     "name": "stdout",
     "output_type": "stream",
     "text": [
      "2020-04-20 13:09:59          0 _SUCCESS\r\n",
      "2020-04-20 13:09:58       1080 part-00000-9616f93c-de2b-43a1-8c81-85b03e45cb5d-c000.snappy.parquet\r\n",
      "2020-04-20 13:09:59        901 part-00001-9616f93c-de2b-43a1-8c81-85b03e45cb5d-c000.snappy.parquet\r\n"
     ]
    }
   ],
   "source": [
    "!aws s3 ls spg-mason-demo/merged_csv/"
   ]
  },
  {
   "cell_type": "code",
   "execution_count": 18,
   "metadata": {},
   "outputs": [
    {
     "name": "stdout",
     "output_type": "stream",
     "text": [
      "Fetching keys at spg-mason-demo/merged_csv\n"
     ]
    },
    {
     "data": {
      "text/plain": [
       "{'Errors': [],\n",
       " 'Info': [],\n",
       " 'Warnings': [],\n",
       " 'Data': [{'Name': 'merged_csv',\n",
       "   'CreatedAt': '',\n",
       "   'CreatedBy': 'mason',\n",
       "   'Schema': {'SchemaType': 'parquet',\n",
       "    'Columns': [{'Name': 'crane',\n",
       "      'Type': 'BYTE_ARRAY',\n",
       "      'ConvertedType': 'UTF8',\n",
       "      'RepititionType': 'OPTIONAL'},\n",
       "     {'Name': '5000.0',\n",
       "      'Type': 'BYTE_ARRAY',\n",
       "      'ConvertedType': 'UTF8',\n",
       "      'RepititionType': 'OPTIONAL'},\n",
       "     {'Name': 'Case',\n",
       "      'Type': 'BYTE_ARRAY',\n",
       "      'ConvertedType': 'UTF8',\n",
       "      'RepititionType': 'OPTIONAL'},\n",
       "     {'Name': 'false',\n",
       "      'Type': 'BYTE_ARRAY',\n",
       "      'ConvertedType': 'UTF8',\n",
       "      'RepititionType': 'OPTIONAL'}]}}]}"
      ]
     },
     "execution_count": 18,
     "metadata": {},
     "output_type": "execute_result"
    }
   ],
   "source": [
    "env.run(\"table\", \"get\", parameters=\"database_name:spg-mason-demo,table_name:merged_csv\", config_id=\"2\").formatted()"
   ]
  },
  {
   "cell_type": "code",
   "execution_count": 20,
   "metadata": {},
   "outputs": [
    {
     "name": "stdout",
     "output_type": "stream",
     "text": [
      "Invalid Operator.  Reason:  Invalid config: Configuration not supported by configured engines.  Check operator.yaml for supported engine configurations.\n"
     ]
    },
    {
     "data": {
      "text/plain": [
       "{'Errors': ['Invalid Operator.  Reason:  Invalid config: Configuration not supported by configured engines.  Check operator.yaml for supported engine configurations.'],\n",
       " 'Info': [],\n",
       " 'Warnings': []}"
      ]
     },
     "execution_count": 20,
     "metadata": {},
     "output_type": "execute_result"
    }
   ],
   "source": [
    "env.run(\"table\", \"infer\", parameters=\"database_name:spg-mason-demo,storage_path:merged_csv\", config_id=\"2\").formatted()"
   ]
  },
  {
   "cell_type": "code",
   "execution_count": null,
   "metadata": {},
   "outputs": [],
   "source": []
  }
 ],
 "metadata": {
  "kernelspec": {
   "display_name": "Python 3",
   "language": "python",
   "name": "python3"
  },
  "language_info": {
   "codemirror_mode": {
    "name": "ipython",
    "version": 3
   },
   "file_extension": ".py",
   "mimetype": "text/x-python",
   "name": "python",
   "nbconvert_exporter": "python",
   "pygments_lexer": "ipython3",
   "version": "3.7.7"
  }
 },
 "nbformat": 4,
 "nbformat_minor": 2
}
